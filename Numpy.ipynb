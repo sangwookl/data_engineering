{
 "cells": [
  {
   "cell_type": "markdown",
   "id": "bd7359d1",
   "metadata": {},
   "source": [
    "#### zeros()\n",
    "#### – 괄호 안에 입력된 숫자만큼의 원소를 생성하고 0으로 초기화"
   ]
  },
  {
   "cell_type": "code",
   "execution_count": 15,
   "id": "d5e12e8f",
   "metadata": {},
   "outputs": [
    {
     "data": {
      "text/plain": [
       "array([0., 0.])"
      ]
     },
     "execution_count": 15,
     "metadata": {},
     "output_type": "execute_result"
    }
   ],
   "source": [
    "import numpy as np\n",
    "#y=np.zeros(shape=(10,), dtype=np.int8)\n",
    "#print(y)\n",
    "y=np.zeros(2)\n",
    "y\n",
    "#x = np.array([1,2,3])\n",
    "#type(x)\n",
    "#x.shape\n"
   ]
  },
  {
   "cell_type": "markdown",
   "id": "52265da7",
   "metadata": {},
   "source": [
    "#### mean()\n",
    "#### – 배열에 저장된 원소들의 평균값을 계산"
   ]
  },
  {
   "cell_type": "code",
   "execution_count": 21,
   "id": "b0e7ec6c",
   "metadata": {},
   "outputs": [
    {
     "data": {
      "text/plain": [
       "(3,)"
      ]
     },
     "execution_count": 21,
     "metadata": {},
     "output_type": "execute_result"
    }
   ],
   "source": [
    "import numpy as np\n",
    "x = np.array([1,2,3])\n",
    "np.mean(x)\n",
    "x.mean()\n",
    "x.shape"
   ]
  },
  {
   "cell_type": "markdown",
   "id": "dc8159eb",
   "metadata": {},
   "source": [
    "#### array() Numpy 형식으로 배열의 원소를 입력할 때는 반드시 리스트 형식으로 입력"
   ]
  },
  {
   "cell_type": "code",
   "execution_count": 30,
   "id": "b42756b7",
   "metadata": {},
   "outputs": [
    {
     "name": "stdout",
     "output_type": "stream",
     "text": [
      "[1 2 3] [1 2 3] ['a' 'b' 'a' 'c'] [2 3 4]\n"
     ]
    }
   ],
   "source": [
    "x=np.array([1,2,3])\n",
    "y=np.array([1,2,3])\n",
    "z=np.array([2,3,4])\n",
    "a=np.array([\"a\",\"b\", \"a\",\"c\"])\n",
    "print(x,y,a,z)"
   ]
  },
  {
   "cell_type": "markdown",
   "id": "2622ed4e",
   "metadata": {},
   "source": [
    "#### reshape()\n",
    "#### – 배열을 원하는 모양으로 생성"
   ]
  },
  {
   "cell_type": "code",
   "execution_count": 33,
   "id": "ae8b6581",
   "metadata": {},
   "outputs": [
    {
     "name": "stdout",
     "output_type": "stream",
     "text": [
      "[[1 2 3 4]\n",
      " [5 6 7 8]] (2, 4) \n",
      " [[1 2]\n",
      " [3 4]\n",
      " [5 6]\n",
      " [7 8]] (4, 2)\n"
     ]
    }
   ],
   "source": [
    "import numpy as np\n",
    "a = [1,2,3,4,5,6,7,8]\n",
    "b = np.reshape(a,(2,4))\n",
    "c = np.reshape(a,(4,2))\n",
    "print(b, b.shape, '\\n',c,c.shape)"
   ]
  },
  {
   "cell_type": "markdown",
   "id": "30ad402a",
   "metadata": {},
   "source": [
    "#### reshape에서 -1의 의미\n",
    "#### 변경된 배열의 ‘-1’ 위치의 차원은 “원래 배열의 길이와 남은 차원으로 부터 추정”이 된다는 뜻"
   ]
  },
  {
   "cell_type": "code",
   "execution_count": 39,
   "id": "9c3ff1f6",
   "metadata": {},
   "outputs": [
    {
     "data": {
      "text/plain": [
       "array([[ 0,  1,  2,  3],\n",
       "       [ 4,  5,  6,  7],\n",
       "       [ 8,  9, 10, 11]])"
      ]
     },
     "execution_count": 39,
     "metadata": {},
     "output_type": "execute_result"
    }
   ],
   "source": [
    "x = np.arange(12)\n",
    "x = x.reshape(3,4)\n",
    "x"
   ]
  },
  {
   "cell_type": "markdown",
   "id": "8871a15b",
   "metadata": {},
   "source": [
    "#### reshape(-1,정수) : 행의 위치에 -1인 경우"
   ]
  },
  {
   "cell_type": "code",
   "execution_count": 40,
   "id": "6ac3491a",
   "metadata": {},
   "outputs": [
    {
     "data": {
      "text/plain": [
       "array([[ 0],\n",
       "       [ 1],\n",
       "       [ 2],\n",
       "       [ 3],\n",
       "       [ 4],\n",
       "       [ 5],\n",
       "       [ 6],\n",
       "       [ 7],\n",
       "       [ 8],\n",
       "       [ 9],\n",
       "       [10],\n",
       "       [11]])"
      ]
     },
     "execution_count": 40,
     "metadata": {},
     "output_type": "execute_result"
    }
   ],
   "source": [
    "x.reshape(-1,1)\n"
   ]
  },
  {
   "cell_type": "code",
   "execution_count": 41,
   "id": "dfb56bb0",
   "metadata": {},
   "outputs": [
    {
     "data": {
      "text/plain": [
       "array([[ 0,  1,  2],\n",
       "       [ 3,  4,  5],\n",
       "       [ 6,  7,  8],\n",
       "       [ 9, 10, 11]])"
      ]
     },
     "execution_count": 41,
     "metadata": {},
     "output_type": "execute_result"
    }
   ],
   "source": [
    "x.reshape(-1,3)"
   ]
  },
  {
   "cell_type": "markdown",
   "id": "3e4193d7",
   "metadata": {},
   "source": [
    "#### reshape(정수,-1) : 열의 위치에 -1인 경우"
   ]
  },
  {
   "cell_type": "code",
   "execution_count": 42,
   "id": "597a311b",
   "metadata": {},
   "outputs": [
    {
     "data": {
      "text/plain": [
       "array([[ 0,  1,  2,  3,  4,  5,  6,  7,  8,  9, 10, 11]])"
      ]
     },
     "execution_count": 42,
     "metadata": {},
     "output_type": "execute_result"
    }
   ],
   "source": [
    "x.reshape(1,-1)"
   ]
  },
  {
   "cell_type": "code",
   "execution_count": 43,
   "id": "01a4acaf",
   "metadata": {},
   "outputs": [
    {
     "data": {
      "text/plain": [
       "array([[ 0,  1,  2,  3],\n",
       "       [ 4,  5,  6,  7],\n",
       "       [ 8,  9, 10, 11]])"
      ]
     },
     "execution_count": 43,
     "metadata": {},
     "output_type": "execute_result"
    }
   ],
   "source": [
    "x.reshape(3,-1)"
   ]
  },
  {
   "cell_type": "markdown",
   "id": "813c94ca",
   "metadata": {},
   "source": [
    "#### reshape(-1)인 경우"
   ]
  },
  {
   "cell_type": "code",
   "execution_count": 47,
   "id": "2b5dc768",
   "metadata": {},
   "outputs": [
    {
     "data": {
      "text/plain": [
       "array([ 0,  1,  2,  3,  4,  5,  6,  7,  8,  9, 10, 11])"
      ]
     },
     "execution_count": 47,
     "metadata": {},
     "output_type": "execute_result"
    }
   ],
   "source": [
    "x.reshape(-1)\n"
   ]
  },
  {
   "cell_type": "code",
   "execution_count": 46,
   "id": "dfa05e03",
   "metadata": {},
   "outputs": [
    {
     "data": {
      "text/plain": [
       "array([[ 0,  1,  2,  3,  4,  5,  6,  7,  8,  9, 10, 11]])"
      ]
     },
     "execution_count": 46,
     "metadata": {},
     "output_type": "execute_result"
    }
   ],
   "source": [
    "x.reshape(1,-1)"
   ]
  },
  {
   "cell_type": "markdown",
   "id": "566435d7",
   "metadata": {},
   "source": [
    "#### ones()\n",
    "#### – 배열을 1의 값들로 채움"
   ]
  },
  {
   "cell_type": "code",
   "execution_count": 50,
   "id": "62266aa1",
   "metadata": {},
   "outputs": [
    {
     "name": "stdout",
     "output_type": "stream",
     "text": [
      "[[1. 1. 1. 1.]\n",
      " [1. 1. 1. 1.]\n",
      " [1. 1. 1. 1.]]\n"
     ]
    }
   ],
   "source": [
    "y=np.ones([3,4])\n",
    "print(y)"
   ]
  },
  {
   "cell_type": "markdown",
   "id": "a361d5e2",
   "metadata": {},
   "source": [
    "#### Numpy 배열의 슬라이싱"
   ]
  },
  {
   "cell_type": "code",
   "execution_count": 51,
   "id": "840ed4d0",
   "metadata": {},
   "outputs": [
    {
     "name": "stdout",
     "output_type": "stream",
     "text": [
      "[2, 22]\n"
     ]
    },
    {
     "ename": "TypeError",
     "evalue": "'type' object is not subscriptable",
     "output_type": "error",
     "traceback": [
      "\u001b[1;31m---------------------------------------------------------------------------\u001b[0m",
      "\u001b[1;31mTypeError\u001b[0m                                 Traceback (most recent call last)",
      "\u001b[1;32m<ipython-input-51-bca5bfac562e>\u001b[0m in \u001b[0;36m<module>\u001b[1;34m\u001b[0m\n\u001b[0;32m      1\u001b[0m \u001b[0mlist1\u001b[0m\u001b[1;33m=\u001b[0m\u001b[1;33m[\u001b[0m\u001b[1;33m[\u001b[0m\u001b[1;36m1\u001b[0m\u001b[1;33m,\u001b[0m\u001b[1;36m11\u001b[0m\u001b[1;33m]\u001b[0m\u001b[1;33m,\u001b[0m\u001b[1;33m[\u001b[0m\u001b[1;36m2\u001b[0m\u001b[1;33m,\u001b[0m\u001b[1;36m22\u001b[0m\u001b[1;33m]\u001b[0m\u001b[1;33m,\u001b[0m\u001b[1;33m[\u001b[0m\u001b[1;36m3\u001b[0m\u001b[1;33m,\u001b[0m\u001b[1;36m33\u001b[0m\u001b[1;33m]\u001b[0m\u001b[1;33m,\u001b[0m\u001b[1;33m[\u001b[0m\u001b[1;36m4\u001b[0m\u001b[1;33m,\u001b[0m\u001b[1;36m44\u001b[0m\u001b[1;33m]\u001b[0m\u001b[1;33m]\u001b[0m\u001b[1;33m\u001b[0m\u001b[1;33m\u001b[0m\u001b[0m\n\u001b[0;32m      2\u001b[0m \u001b[0mprint\u001b[0m\u001b[1;33m(\u001b[0m\u001b[0mlist1\u001b[0m\u001b[1;33m[\u001b[0m\u001b[1;33m:\u001b[0m\u001b[1;33m]\u001b[0m\u001b[1;33m[\u001b[0m\u001b[1;36m1\u001b[0m\u001b[1;33m]\u001b[0m\u001b[1;33m)\u001b[0m\u001b[1;33m\u001b[0m\u001b[1;33m\u001b[0m\u001b[0m\n\u001b[1;32m----> 3\u001b[1;33m \u001b[0mprint\u001b[0m\u001b[1;33m(\u001b[0m\u001b[0mlist\u001b[0m\u001b[1;33m[\u001b[0m\u001b[1;33m:\u001b[0m\u001b[1;33m,\u001b[0m\u001b[1;36m1\u001b[0m\u001b[1;33m]\u001b[0m\u001b[1;33m)\u001b[0m\u001b[1;33m\u001b[0m\u001b[1;33m\u001b[0m\u001b[0m\n\u001b[0m",
      "\u001b[1;31mTypeError\u001b[0m: 'type' object is not subscriptable"
     ]
    }
   ],
   "source": [
    "list1=[[1,11],[2,22],[3,33],[4,44]]\n",
    "print(list1[:][1])\n",
    "print(list[:,1])"
   ]
  },
  {
   "cell_type": "code",
   "execution_count": 55,
   "id": "7d49ddcb",
   "metadata": {},
   "outputs": [
    {
     "name": "stdout",
     "output_type": "stream",
     "text": [
      "[[ 1 11]\n",
      " [ 2 22]\n",
      " [ 3 33]\n",
      " [ 4 44]]\n",
      "[11 22 33 44]\n",
      "[ 2 22]\n"
     ]
    }
   ],
   "source": [
    "list1=[[1,11],[2,22],[3,33],[4,44]]\n",
    "arr=np.array(list1)\n",
    "print(arr)\n",
    "print(arr[:,1])\n",
    "print(arr[:][1])"
   ]
  },
  {
   "cell_type": "code",
   "execution_count": 64,
   "id": "279ab746",
   "metadata": {},
   "outputs": [
    {
     "name": "stdout",
     "output_type": "stream",
     "text": [
      "[[ 1 11]\n",
      " [ 2 12]\n",
      " [ 3 13]\n",
      " [ 4 14]]\n",
      "[ 3 13]\n",
      "[[ 2 12]\n",
      " [ 3 13]\n",
      " [ 4 14]]\n"
     ]
    }
   ],
   "source": [
    "list1=[[1,11],[2,12],[3,13],[4,14]]\n",
    "arr=np.array(list1)\n",
    "print(arr)\n",
    "print(arr[1:3][1])\n",
    "print(arr[1:4])"
   ]
  },
  {
   "cell_type": "markdown",
   "id": "5b9d69bf",
   "metadata": {},
   "source": [
    "####  math 모듈의 sqrt(), Numpy의 sqrt()"
   ]
  },
  {
   "cell_type": "code",
   "execution_count": 65,
   "id": "5dd282b9",
   "metadata": {},
   "outputs": [
    {
     "data": {
      "text/plain": [
       "1.4142135623730951"
      ]
     },
     "execution_count": 65,
     "metadata": {},
     "output_type": "execute_result"
    }
   ],
   "source": [
    "import math\n",
    "math.sqrt(2)"
   ]
  },
  {
   "cell_type": "code",
   "execution_count": 68,
   "id": "7a681ecb",
   "metadata": {},
   "outputs": [
    {
     "ename": "TypeError",
     "evalue": "must be real number, not list",
     "output_type": "error",
     "traceback": [
      "\u001b[1;31m---------------------------------------------------------------------------\u001b[0m",
      "\u001b[1;31mTypeError\u001b[0m                                 Traceback (most recent call last)",
      "\u001b[1;32m<ipython-input-68-fe56141714ef>\u001b[0m in \u001b[0;36m<module>\u001b[1;34m\u001b[0m\n\u001b[0;32m      1\u001b[0m \u001b[1;32mimport\u001b[0m \u001b[0mnumpy\u001b[0m \u001b[1;32mas\u001b[0m \u001b[0mnp\u001b[0m\u001b[1;33m\u001b[0m\u001b[1;33m\u001b[0m\u001b[0m\n\u001b[0;32m      2\u001b[0m \u001b[0mnp\u001b[0m\u001b[1;33m.\u001b[0m\u001b[0msqrt\u001b[0m\u001b[1;33m(\u001b[0m\u001b[1;36m2\u001b[0m\u001b[1;33m)\u001b[0m\u001b[1;33m\u001b[0m\u001b[1;33m\u001b[0m\u001b[0m\n\u001b[1;32m----> 3\u001b[1;33m \u001b[0mmath\u001b[0m\u001b[1;33m.\u001b[0m\u001b[0msqrt\u001b[0m\u001b[1;33m(\u001b[0m\u001b[1;33m[\u001b[0m\u001b[1;36m2\u001b[0m\u001b[1;33m,\u001b[0m\u001b[1;36m3\u001b[0m\u001b[1;33m]\u001b[0m\u001b[1;33m)\u001b[0m\u001b[1;33m\u001b[0m\u001b[1;33m\u001b[0m\u001b[0m\n\u001b[0m",
      "\u001b[1;31mTypeError\u001b[0m: must be real number, not list"
     ]
    }
   ],
   "source": [
    "import numpy as np\n",
    "np.sqrt(2)\n",
    "math.sqrt([2,3])"
   ]
  },
  {
   "cell_type": "code",
   "execution_count": 72,
   "id": "b0f04808",
   "metadata": {},
   "outputs": [
    {
     "name": "stdout",
     "output_type": "stream",
     "text": [
      "[0. 0. 0. 0. 0. 0. 0. 0. 0. 0. 0. 0. 0. 0. 0.]\n"
     ]
    }
   ],
   "source": [
    "import numpy as np\n",
    "x=np.zeros(15)\n",
    "print(x)"
   ]
  },
  {
   "cell_type": "code",
   "execution_count": 73,
   "id": "8dd37c03",
   "metadata": {},
   "outputs": [
    {
     "name": "stdout",
     "output_type": "stream",
     "text": [
      "[[0. 0. 0.]\n",
      " [0. 0. 0.]\n",
      " [0. 0. 0.]\n",
      " [0. 0. 0.]\n",
      " [0. 0. 0.]]\n"
     ]
    }
   ],
   "source": [
    "y=np.zeros([5,3])\n",
    "print(y)"
   ]
  },
  {
   "cell_type": "code",
   "execution_count": 74,
   "id": "f3c1ff12",
   "metadata": {},
   "outputs": [
    {
     "name": "stdout",
     "output_type": "stream",
     "text": [
      "[[0. 0. 0. 0. 0.]\n",
      " [0. 0. 0. 0. 0.]\n",
      " [0. 0. 0. 0. 0.]]\n"
     ]
    }
   ],
   "source": [
    "y=np.zeros([5,3])\n",
    "z=y.reshape([3,5])\n",
    "print(z)"
   ]
  },
  {
   "cell_type": "code",
   "execution_count": 78,
   "id": "0acf0123",
   "metadata": {},
   "outputs": [
    {
     "name": "stdout",
     "output_type": "stream",
     "text": [
      "[[4. 4. 4. 4. 4.]\n",
      " [4. 4. 4. 4. 4.]\n",
      " [4. 4. 4. 4. 4.]]\n"
     ]
    }
   ],
   "source": [
    "y=np.ones([3,5])\n",
    "z=y*4\n",
    "#y=np.zeros([5,3])\n",
    "#z=y.reshape([3,5])\n",
    "#z+=4\n",
    "print(z)"
   ]
  },
  {
   "cell_type": "markdown",
   "id": "c6d91760",
   "metadata": {},
   "source": [
    "#### transpose()\n",
    "#### 전치행렬\n",
    "#### – 행과 열을 교환하여 얻어지는 행렬\n",
    "#### – 행렬의 값들을 주대각선을 기준으로 위치를 바꾼 행렬을 의미\n"
   ]
  },
  {
   "cell_type": "code",
   "execution_count": 81,
   "id": "d3840a3f",
   "metadata": {},
   "outputs": [
    {
     "name": "stdout",
     "output_type": "stream",
     "text": [
      "[[1 2]\n",
      " [3 4]]\n",
      "\n",
      "\n",
      "\n",
      "[[1 3]\n",
      " [2 4]]\n"
     ]
    }
   ],
   "source": [
    "import numpy as np\n",
    "ary=np.array([[1,2],[3,4]])\n",
    "print(ary)\n",
    "print('\\n\\n')\n",
    "trans_ary=ary.transpose()\n",
    "print(trans_ary)"
   ]
  },
  {
   "cell_type": "markdown",
   "id": "eaa719f1",
   "metadata": {},
   "source": [
    "#### 2개 배열에 대한 연산\n",
    "#### – 2개 배열에 저장된 내용을 인덱스별로 계산\n",
    "#### – 선형대수학의 사칙연산과 동일하게 작동\n",
    "#### – 곱셈도 같은 원리로 동작"
   ]
  },
  {
   "cell_type": "code",
   "execution_count": 83,
   "id": "877ac0d4",
   "metadata": {},
   "outputs": [
    {
     "name": "stdout",
     "output_type": "stream",
     "text": [
      "[2 4 6]\n",
      "[1 4 9]\n",
      "[0 0 0]\n",
      "[ 1  4 27]\n"
     ]
    }
   ],
   "source": [
    "import numpy as np\n",
    "x=np.array((1,2,3))\n",
    "y=np.array((1,2,3))\n",
    "print(x+y)\n",
    "print(x*y)\n",
    "print(x%y)\n",
    "print(x**y)"
   ]
  },
  {
   "cell_type": "markdown",
   "id": "4276d681",
   "metadata": {},
   "source": [
    "#### 인덱싱"
   ]
  },
  {
   "cell_type": "code",
   "execution_count": 85,
   "id": "592910ef",
   "metadata": {},
   "outputs": [
    {
     "name": "stdout",
     "output_type": "stream",
     "text": [
      "[4 5 6]\n",
      "[2 5 8]\n"
     ]
    }
   ],
   "source": [
    "x = np.array([[1,2,3],[4,5,6],[7,8,9]])\n",
    "print(x[1])\n",
    "print(x[:,1])"
   ]
  },
  {
   "cell_type": "markdown",
   "id": "38b1bdf0",
   "metadata": {},
   "source": [
    "#### 2개의 Numpy 배열 간의 계산"
   ]
  },
  {
   "cell_type": "code",
   "execution_count": 102,
   "id": "39e5dbbc",
   "metadata": {},
   "outputs": [
    {
     "name": "stdout",
     "output_type": "stream",
     "text": [
      "[16 45 80]\n"
     ]
    }
   ],
   "source": [
    "x=np.array([[1,2,3],[4,5,6],[7,8,9]])\n",
    "y=np.array([[2,3,4],[5,6,7],[8,9,10]])\n",
    "print(x[:, 1]*y[2])\n"
   ]
  },
  {
   "cell_type": "code",
   "execution_count": 103,
   "id": "2a654059",
   "metadata": {},
   "outputs": [
    {
     "name": "stdout",
     "output_type": "stream",
     "text": [
      "[ 5 11 17]\n"
     ]
    }
   ],
   "source": [
    "x=np.array([[1,2,3],[4,5,6],[7,8,9]])\n",
    "y=np.array([[2,3,4],[5,6,7],[8,9,10]])\n",
    "print(x[:, 1]+y[:,1])"
   ]
  },
  {
   "cell_type": "code",
   "execution_count": 104,
   "id": "ee0c6f0e",
   "metadata": {},
   "outputs": [
    {
     "name": "stdout",
     "output_type": "stream",
     "text": [
      "[False False False  True  True]\n"
     ]
    }
   ],
   "source": [
    "a=np.array([10,20,30,40,60])\n",
    "b=a>30\n",
    "print(b)"
   ]
  },
  {
   "cell_type": "markdown",
   "id": "a17439ef",
   "metadata": {},
   "source": [
    "#### random.rand() \n",
    "\n"
   ]
  },
  {
   "cell_type": "code",
   "execution_count": 106,
   "id": "9812b851",
   "metadata": {},
   "outputs": [
    {
     "name": "stdout",
     "output_type": "stream",
     "text": [
      "[0.32602806 0.35155403 0.82991684 0.68040325 0.08085892]\n"
     ]
    }
   ],
   "source": [
    "import numpy as np\n",
    "ary=np.random.rand(5)\n",
    "print(ary)"
   ]
  },
  {
   "cell_type": "code",
   "execution_count": 110,
   "id": "caca2b18",
   "metadata": {},
   "outputs": [
    {
     "name": "stdout",
     "output_type": "stream",
     "text": [
      "[0.68241025 0.09468356 0.99808488 0.53748998 0.09170608]\n",
      "[[[8.73086925e-04 5.32041517e-01]\n",
      "  [9.92236467e-02 6.83102745e-01]\n",
      "  [7.86221305e-01 9.27448040e-01]]\n",
      "\n",
      " [[2.46960754e-02 6.81841779e-01]\n",
      "  [7.48926878e-02 8.89103708e-02]\n",
      "  [5.77286628e-01 2.04520459e-01]]] (2, 3, 2)\n"
     ]
    }
   ],
   "source": [
    "#### (0, 1) 범위에서 균일한 분포\n",
    "a = np.random.rand(5)\n",
    "print(a)\n",
    "\n",
    "b = np.random.rand(2, 3, 2)\n",
    "print(b , b.shape)"
   ]
  },
  {
   "cell_type": "code",
   "execution_count": 116,
   "id": "9e397c3d",
   "metadata": {},
   "outputs": [
    {
     "name": "stdout",
     "output_type": "stream",
     "text": [
      "[9 4 8 7 5]\n",
      "[19  9 11 10  7]\n",
      "[[1 4 3]\n",
      " [1 4 2]]\n"
     ]
    }
   ],
   "source": [
    "a = np.random.randint(10, size=5)\n",
    "print(a)\n",
    "\n",
    "b = np.random.randint(5, 24, size=5)\n",
    "print(b)\n",
    "\n",
    "c = np.random.randint(1, 5, size=(2, 3))\n",
    "print(c)"
   ]
  },
  {
   "cell_type": "markdown",
   "id": "41239c0a",
   "metadata": {},
   "source": [
    "#### random.seed()\n",
    "함수는 난수 생성에 필요한 시드를 설정,\n",
    "코드를 실행할 때마다 동일한 난수가 생성"
   ]
  },
  {
   "cell_type": "code",
   "execution_count": 170,
   "id": "88265eee",
   "metadata": {},
   "outputs": [
    {
     "name": "stdout",
     "output_type": "stream",
     "text": [
      "[[0.5488135  0.71518937 0.60276338]\n",
      " [0.54488318 0.4236548  0.64589411]]\n"
     ]
    }
   ],
   "source": [
    "import numpy as np\n",
    "\n",
    "np.random.seed(0)\n",
    "\n",
    "print(np.random.rand(2, 3))"
   ]
  },
  {
   "cell_type": "code",
   "execution_count": 210,
   "id": "2c6a949a",
   "metadata": {},
   "outputs": [
    {
     "name": "stdout",
     "output_type": "stream",
     "text": [
      "[0.22199317 0.87073231 0.20671916 0.91861091 0.48841119] [0.61174386 0.76590786 0.51841799 0.2968005  0.18772123]\n"
     ]
    }
   ],
   "source": [
    "np.random.rand(0)\n",
    "a = np.random.rand(5)\n",
    "b = np.random.rand(5)\n",
    "#a > 0.12\n",
    "print(a,b)"
   ]
  },
  {
   "cell_type": "markdown",
   "id": "66b134f2",
   "metadata": {},
   "source": [
    "#### any()와 all() 비교"
   ]
  },
  {
   "cell_type": "code",
   "execution_count": 211,
   "id": "3a54e2f7",
   "metadata": {},
   "outputs": [
    {
     "name": "stdout",
     "output_type": "stream",
     "text": [
      "[False  True  True  True  True]\n",
      "False\n"
     ]
    }
   ],
   "source": [
    "a = np.random.rand(5)\n",
    "print(a>0.12)\n",
    "print(np.all(a>0.12))"
   ]
  },
  {
   "cell_type": "markdown",
   "id": "63501c4b",
   "metadata": {},
   "source": [
    "#### linspace()\n",
    "시작과 끝의 값을 지정하고 그 사이의 값을 균등하게 배분"
   ]
  },
  {
   "cell_type": "code",
   "execution_count": 217,
   "id": "9ce1d502",
   "metadata": {},
   "outputs": [
    {
     "data": {
      "text/plain": [
       "array([ 0.        ,  4.33333333,  8.66666667, 13.        ])"
      ]
     },
     "execution_count": 217,
     "metadata": {},
     "output_type": "execute_result"
    }
   ],
   "source": [
    "np.linspace(0, 13, 4)"
   ]
  },
  {
   "cell_type": "code",
   "execution_count": 221,
   "id": "0dbe10f6",
   "metadata": {},
   "outputs": [
    {
     "data": {
      "text/plain": [
       "(array([ 0.,  4.,  8., 12.]), 4.0)"
      ]
     },
     "execution_count": 221,
     "metadata": {},
     "output_type": "execute_result"
    }
   ],
   "source": [
    "np.linspace(0, 12, 4, retstep=True) #retstep=True이면 샘플 간의 간격을 출력"
   ]
  },
  {
   "cell_type": "code",
   "execution_count": 224,
   "id": "49c63a7a",
   "metadata": {},
   "outputs": [
    {
     "data": {
      "text/plain": [
       "array([0., 3., 6., 9.])"
      ]
     },
     "execution_count": 224,
     "metadata": {},
     "output_type": "execute_result"
    }
   ],
   "source": [
    "#endpoint=False 이면 마지막 값을 제외하고 샘플값을 만들어냄\n",
    "np.linspace(0, 12, 4, endpoint=False) "
   ]
  },
  {
   "cell_type": "code",
   "execution_count": null,
   "id": "d5c2629b",
   "metadata": {},
   "outputs": [],
   "source": []
  }
 ],
 "metadata": {
  "kernelspec": {
   "display_name": "Python 3",
   "language": "python",
   "name": "python3"
  },
  "language_info": {
   "codemirror_mode": {
    "name": "ipython",
    "version": 3
   },
   "file_extension": ".py",
   "mimetype": "text/x-python",
   "name": "python",
   "nbconvert_exporter": "python",
   "pygments_lexer": "ipython3",
   "version": "3.8.9"
  }
 },
 "nbformat": 4,
 "nbformat_minor": 5
}
